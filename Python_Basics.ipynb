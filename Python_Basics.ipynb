{
  "nbformat": 4,
  "nbformat_minor": 0,
  "metadata": {
    "colab": {
      "provenance": []
    },
    "kernelspec": {
      "name": "python3",
      "display_name": "Python 3"
    },
    "language_info": {
      "name": "python"
    }
  },
  "cells": [
    {
      "cell_type": "markdown",
      "source": [
        "# Python Basics\n",
        "\n",
        "\n",
        "\n"
      ],
      "metadata": {
        "id": "mKkDSnKgFdgT"
      }
    },
    {
      "cell_type": "markdown",
      "source": [
        "1. What is Python, and why is it popular?\n",
        "   - Python is a high-level, general-purpose programming language that is widely used for software development, web development, data science, automation, artificial intelligence, and more. It was created by Guido van Rossum and first released in 1991.\n",
        "   It is popular because of the following reasons:\n",
        "\n",
        "    Easy to learn and read\n",
        "\n",
        "    Versatile (used in many fields)\n",
        "\n",
        "    Large library support\n",
        "\n",
        "    Strong community support\n",
        "\n",
        "    Cross-platform compatible\n",
        "\n",
        "    Used by top companies\n",
        "\n",
        "    Good for beginners and experts\n",
        "\n",
        "    Great for automation and AI\n",
        "\n",
        "    Quick development and prototyping\n",
        "\n",
        "    Open-source and free to use\n",
        "2. What is an interpreter in Python?\n",
        "   - An interpreter translates code written in a high-level programming language into machine code line-by-line as the code runs.\n",
        "3. What are pre-defined keywords in Python?\n",
        "   - Pre-defined keywords are the reserved words which are defined by the python itself and not by user. They have fixed meaning and are used in code.\n",
        "4. Can keywords be used as variable names?\n",
        "   - No, we can't use keywords as variable names because keywords have special menaning and it would give error if we use variable names as keyword.\n",
        "5. What is mutability in Python?\n",
        "   - Mutability in python means that we can change the value or content of an object after it is created. Mutability simply means changeable.\n",
        "6. Why are lists mutable, but tuples are immutable?\n",
        "   - Lists are mutable because they are designed to be changed. Lists are changeable while tuples are immutable because they are meant to stay fixed and unchangeable.\n",
        "7. What is the difference between “==” and “is” operators in Python?\n",
        "   - '==' is known as Equality Operator and it is used for checking  if the values of two objects are the same while\n",
        "     'is' is known as Identity Operator and it checks if two variables point to the exact same object in memory.\n",
        "\n",
        "      Eg: a = [1, 2, 3]\n",
        "          b = [1, 2, 3]\n",
        "\n",
        "          print(a == b)  # True — Both lists have the same values\n",
        "          print(a is b)  # False — They are different objects in memory\n",
        "\n",
        "          c = a\n",
        "          print(a is c)  # True — Both refer to the same object\n",
        "8. What are logical operators in Python?\n",
        "   - Logical operators are used to combine or compare two or more conditions (True or False values).\n",
        "\n",
        "     Types of Logical Operators:\n",
        "\n",
        "     and → True if both conditions are True\n",
        "\n",
        "     or → True if at least one condition is True\n",
        "\n",
        "     not → Reverses the condition (True becomes False, False becomes True)\n",
        "\n",
        "     # Examples:\n",
        "     \n",
        "     # and\n",
        "     print(True and True)   # True\n",
        "\n",
        "     print(True and False)  # False\n",
        "\n",
        "     # or\n",
        "     print(True or False)   # True\n",
        "\n",
        "     print(False or False)  # False\n",
        "\n",
        "     # not\n",
        "     print(not True)        # False\n",
        "\n",
        "     print(not False)       # True\n",
        "9. What is type casting in Python?\n",
        "   - Type casting means converting one data type into another.\n",
        "     It is used when we need to change a value from one type (like a string) to another type (like an integer).\n",
        "10. What is the difference between implicit and explicit type casting?\n",
        "    - In Implicit Type Casting python automatically converts one data type to   another.\n",
        "\n",
        "     In Explicit Type Casting we manually convert the data type using functions like int(), float(), str(), etc.\n",
        "11.  What is the purpose of conditional statements in Python?\n",
        "     - The purpose of conditional statements in Python is to enable decision-making in a program. These statements allow the program to execute certain blocks of code only when specific conditions are met, and to skip or choose alternative blocks when the conditions are not met.\n",
        "\n",
        "     Python provides the following conditional statements:\n",
        "\n",
        "     if – executes a block if the condition is true.\n",
        "\n",
        "     elif – checks another condition if the previous if was false.\n",
        "\n",
        "     else – executes a block if none of the above conditions are true.\n",
        "12. How does the elif statement work?\n",
        "    - The elif statement in Python is used to check multiple conditions after the initial if statement. It allows the program to evaluate more than one possibility and execute the block of code that corresponds to the first condition that is true.\n",
        "13. What is the difference between for and while loops?\n",
        "    - The for loop and while loop in Python are both used to repeat a block of code, but they differ in how they operate. A for loop is generally used when the number of iterations is known beforehand. It is commonly used to iterate over sequences like lists, strings, or ranges. The loop variable is automatically updated, and the loop ends when the sequence is fully traversed. For example, for i in range(5): will execute the loop 5 times, from 0 to 4.\n",
        "\n",
        "     On the other hand, a while loop is used when the number of repetitions is not known in advance. It continues to run as long as a specified condition remains true. Unlike the for loop, in a while loop, the loop control variable must be updated manually inside the loop; otherwise, it may result in an infinite loop. For example, while i < 5: will keep running until the condition becomes false. In short, for loops are best for definite iteration, while while loops are suitable for indefinite iteration based on conditions.\n",
        "14. Describe a scenario where a while loop is more suitable than a for loop.\n",
        "    - A while loop is more suitable in situations where we do not know in advance how many times the loop should run. It is ideal when the loop needs to continue until a certain condition is met, rather than for a fixed number of iterations.\n",
        "\n",
        "     For example, consider a program that keeps asking the user to enter a correct password. We don’t know how many attempts the user will take, so a while loop is the better choice:\n",
        "\n",
        "          password = \"\"\n",
        "          while password != \"admin123\":\n",
        "          password = input(\"Enter password: \")\n",
        "          print(\"Access granted!\")\n",
        "\n"
      ],
      "metadata": {
        "id": "RU7IwQzMGPE1"
      }
    },
    {
      "cell_type": "code",
      "execution_count": 4,
      "metadata": {
        "colab": {
          "base_uri": "https://localhost:8080/"
        },
        "id": "mXaAVrXGFQkA",
        "outputId": "0c8cef89-9398-4a7d-9782-1e45f0737b41"
      },
      "outputs": [
        {
          "output_type": "stream",
          "name": "stdout",
          "text": [
            "Hello, World!\n"
          ]
        }
      ],
      "source": [
        "#1 Write a Python program to print \"Hello, World!\"\n",
        "print(\"Hello, World!\")\n"
      ]
    },
    {
      "cell_type": "code",
      "source": [
        "#2 Write a Python program that displays your name and age.\n",
        "name = \"Abhijay\"\n",
        "age = 21\n",
        "print(\"My name is\" , name)\n",
        "print(\"I am\" , age , \"years old\")"
      ],
      "metadata": {
        "colab": {
          "base_uri": "https://localhost:8080/"
        },
        "id": "X1QaDsGNNANO",
        "outputId": "ddfc2adf-7b43-418a-f87b-142a0e25da70"
      },
      "execution_count": 5,
      "outputs": [
        {
          "output_type": "stream",
          "name": "stdout",
          "text": [
            "My name is Abhijay\n",
            "I am 21 years old\n"
          ]
        }
      ]
    },
    {
      "cell_type": "code",
      "source": [
        "#3 Write code to print all the pre-defined keywords in Python using the keyword library.\n",
        "import keyword\n",
        "print(\"List of all python keywords:\")\n",
        "print(keyword.kwlist)"
      ],
      "metadata": {
        "colab": {
          "base_uri": "https://localhost:8080/"
        },
        "id": "R5CrFR-7Oxqn",
        "outputId": "0d950e93-8d56-4fb6-af23-528e75d15a59"
      },
      "execution_count": 22,
      "outputs": [
        {
          "output_type": "stream",
          "name": "stdout",
          "text": [
            "List of all python keywords:\n",
            "['False', 'None', 'True', 'and', 'as', 'assert', 'async', 'await', 'break', 'class', 'continue', 'def', 'del', 'elif', 'else', 'except', 'finally', 'for', 'from', 'global', 'if', 'import', 'in', 'is', 'lambda', 'nonlocal', 'not', 'or', 'pass', 'raise', 'return', 'try', 'while', 'with', 'yield']\n"
          ]
        }
      ]
    },
    {
      "cell_type": "code",
      "source": [
        "#4 Write a program that checks if a given word is a Python keyword.\n",
        "import keyword\n",
        "word = input(\"Enter a word:\")\n",
        "if keyword.iskeyword(word):\n",
        "  print(f\"'{word}' is a python keyword.\")\n",
        "else:\n",
        "\n",
        "    print(f\"'{word}'is Not a python keyword.\")"
      ],
      "metadata": {
        "colab": {
          "base_uri": "https://localhost:8080/"
        },
        "collapsed": true,
        "id": "zlzNNEyWQDHI",
        "outputId": "b9ca6d40-cac6-46ba-9758-a3057f8e8459"
      },
      "execution_count": 23,
      "outputs": [
        {
          "output_type": "stream",
          "name": "stdout",
          "text": [
            "Enter a word:None\n",
            "'None' is a python keyword.\n"
          ]
        }
      ]
    },
    {
      "cell_type": "code",
      "source": [
        "#5 Create a list and tuple in Python, and demonstrate how attempting to change an element works differently for each.\n",
        "lst = [1, 2, 3, 4]\n",
        "print(\"My list is\" , lst)\n",
        "lst[1] = 5\n",
        "print(\"My new list is\", lst)\n",
        "my_tuple = {1, 2, 3, 4}\n",
        "print(\"My tuple is\", my_tuple)\n",
        "my_tuple[1] = 5\n",
        "# By changing elements in Tuple it will give error because tupe is immutable."
      ],
      "metadata": {
        "colab": {
          "base_uri": "https://localhost:8080/",
          "height": 233
        },
        "id": "0gsG4s6sT4Gj",
        "outputId": "8aa22bc0-689d-4113-ac0d-f39ac0d7f923"
      },
      "execution_count": 30,
      "outputs": [
        {
          "output_type": "stream",
          "name": "stdout",
          "text": [
            "My list is [1, 2, 3, 4]\n",
            "My new list is [1, 5, 3, 4]\n",
            "My tuple is {1, 2, 3, 4}\n"
          ]
        },
        {
          "output_type": "error",
          "ename": "TypeError",
          "evalue": "'set' object does not support item assignment",
          "traceback": [
            "\u001b[0;31m---------------------------------------------------------------------------\u001b[0m",
            "\u001b[0;31mTypeError\u001b[0m                                 Traceback (most recent call last)",
            "\u001b[0;32m<ipython-input-30-31f664fe2ebd>\u001b[0m in \u001b[0;36m<cell line: 0>\u001b[0;34m()\u001b[0m\n\u001b[1;32m      6\u001b[0m \u001b[0mmy_tuple\u001b[0m \u001b[0;34m=\u001b[0m \u001b[0;34m{\u001b[0m\u001b[0;36m1\u001b[0m\u001b[0;34m,\u001b[0m \u001b[0;36m2\u001b[0m\u001b[0;34m,\u001b[0m \u001b[0;36m3\u001b[0m\u001b[0;34m,\u001b[0m \u001b[0;36m4\u001b[0m\u001b[0;34m}\u001b[0m\u001b[0;34m\u001b[0m\u001b[0;34m\u001b[0m\u001b[0m\n\u001b[1;32m      7\u001b[0m \u001b[0mprint\u001b[0m\u001b[0;34m(\u001b[0m\u001b[0;34m\"My tuple is\"\u001b[0m\u001b[0;34m,\u001b[0m \u001b[0mmy_tuple\u001b[0m\u001b[0;34m)\u001b[0m\u001b[0;34m\u001b[0m\u001b[0;34m\u001b[0m\u001b[0m\n\u001b[0;32m----> 8\u001b[0;31m \u001b[0mmy_tuple\u001b[0m\u001b[0;34m[\u001b[0m\u001b[0;36m1\u001b[0m\u001b[0;34m]\u001b[0m \u001b[0;34m=\u001b[0m \u001b[0;36m5\u001b[0m\u001b[0;34m\u001b[0m\u001b[0;34m\u001b[0m\u001b[0m\n\u001b[0m",
            "\u001b[0;31mTypeError\u001b[0m: 'set' object does not support item assignment"
          ]
        }
      ]
    },
    {
      "cell_type": "code",
      "source": [
        "#6 Write a function to demonstrate the behavior of mutable and immutable arguments.\n",
        "def modify_values(num, my_list):\n",
        "    num = num + 10\n",
        "    my_list.append(100)\n",
        "    print(\"Inside function:\")\n",
        "    print(\"num =\", num)\n",
        "    print(\"my_list =\", my_list)\n",
        "\n",
        "a = 5\n",
        "b = [1, 2, 3]\n",
        "\n",
        "print(\"Before function call:\")\n",
        "print(\"a =\", a)\n",
        "print(\"b =\", b)\n",
        "\n",
        "modify_values(a, b)\n",
        "\n",
        "print(\"\\nAfter function call:\")\n",
        "print(\"a =\", a)\n",
        "print(\"b =\", b)"
      ],
      "metadata": {
        "colab": {
          "base_uri": "https://localhost:8080/"
        },
        "id": "HJtHRKU3XnnJ",
        "outputId": "10e4f993-800a-4641-984a-e94b7c88e0ca"
      },
      "execution_count": 1,
      "outputs": [
        {
          "output_type": "stream",
          "name": "stdout",
          "text": [
            "Before function call:\n",
            "a = 5\n",
            "b = [1, 2, 3]\n",
            "Inside function:\n",
            "num = 15\n",
            "my_list = [1, 2, 3, 100]\n",
            "\n",
            "After function call:\n",
            "a = 5\n",
            "b = [1, 2, 3, 100]\n"
          ]
        }
      ]
    },
    {
      "cell_type": "code",
      "source": [
        "#7 Write a program that performs basic arithmetic operations on two user-input numbers.\n",
        "num1 = float(input(\"Enter first number:\"))\n",
        "num2 = float(input(\"Enter second number:\"))\n",
        "print(\"Addition of num1 and num2 is\", num1 + num2)\n",
        "print(\"Subtraction of num1 and num2 is\", num1 - num2)\n",
        "print(\"Multiplication of num1 and num2 is\", num1 * num2)\n",
        "if num2 != 0:\n",
        "   print(\"Divison of num1 and num2 is\", num1 / num2)\n",
        "else:\n",
        "   print(\"num1 can't be divide by 0\")"
      ],
      "metadata": {
        "colab": {
          "base_uri": "https://localhost:8080/"
        },
        "id": "3vqMw0nlGoHa",
        "outputId": "53b059bc-1e48-4b18-ad30-077c241fda50"
      },
      "execution_count": 13,
      "outputs": [
        {
          "output_type": "stream",
          "name": "stdout",
          "text": [
            "Enter first number:10\n",
            "Enter second number:4\n",
            "Addition of num1 and num2 is 14.0\n",
            "Subtraction of num1 and num2 is 6.0\n",
            "Multiplication of num1 and num2 is 40.0\n",
            "Divison of num1 and num2 is 2.5\n"
          ]
        }
      ]
    },
    {
      "cell_type": "code",
      "source": [
        "#8  Write a program to demonstrate the use of logical operators.\n",
        "a = int(input(\"Enter first number: \"))\n",
        "b = int(input(\"Enter second number: \"))\n",
        "\n",
        "is_a_positive = a > 0\n",
        "is_b_positive = b > 0\n",
        "\n",
        "both_positive = is_a_positive and is_b_positive\n",
        "print(\"Both numbers are positive:\", both_positive)\n",
        "\n",
        "at_least_one_positive = is_a_positive or is_b_positive\n",
        "print(\"At least one number is positive:\", at_least_one_positive)\n",
        "\n",
        "none_negative = not (a < 0 or b < 0)\n",
        "print(\"None of the numbers are negative:\", none_negative)"
      ],
      "metadata": {
        "colab": {
          "base_uri": "https://localhost:8080/"
        },
        "id": "c2d9G7oZN13v",
        "outputId": "49c38143-c0a6-420e-b9dd-90fbca6c276a"
      },
      "execution_count": 14,
      "outputs": [
        {
          "output_type": "stream",
          "name": "stdout",
          "text": [
            "Enter first number: 23\n",
            "Enter second number: 18\n",
            "Both numbers are positive: True\n",
            "At least one number is positive: True\n",
            "None of the numbers are negative: True\n"
          ]
        }
      ]
    },
    {
      "cell_type": "code",
      "source": [
        "#9 Write a Python program to convert user input from string to integer, float, and boolean types.\n",
        "user_input = input(\"Enter a value: \")\n",
        "\n",
        "int_value = int(user_input)\n",
        "print(\"Integer:\", int_value)\n",
        "\n",
        "float_value = float(user_input)\n",
        "print(\"Float:\", float_value)\n",
        "\n",
        "if user_input.lower() == \"true\":\n",
        "    bool_value = True\n",
        "elif user_input.lower() == \"false\":\n",
        "    bool_value = False\n",
        "else:\n",
        "    bool_value = bool(user_input)\n",
        "print(\"Boolean:\", bool_value)"
      ],
      "metadata": {
        "colab": {
          "base_uri": "https://localhost:8080/"
        },
        "id": "xV-cvKabQP9D",
        "outputId": "0ea3fb81-53b4-4b90-b1f6-c6a6046b1fc9"
      },
      "execution_count": 20,
      "outputs": [
        {
          "output_type": "stream",
          "name": "stdout",
          "text": [
            "Enter a value: 10\n",
            "Integer: 10\n",
            "Float: 10.0\n",
            "Boolean: True\n"
          ]
        }
      ]
    },
    {
      "cell_type": "code",
      "source": [
        "#10 Write code to demonstrate type casting with list elements.\n",
        "string_list = [\"5\", \"8\", \"14\", \"7\"]\n",
        "int_list = [int(num) for num in string_list]\n",
        "print(\"Original string list is\", string_list)\n",
        "print(\"After typecasting new list is\", int_list)"
      ],
      "metadata": {
        "colab": {
          "base_uri": "https://localhost:8080/"
        },
        "id": "4HjLRrNFVHWx",
        "outputId": "262c5bbf-834c-4d32-807f-69e11c8fba51"
      },
      "execution_count": 22,
      "outputs": [
        {
          "output_type": "stream",
          "name": "stdout",
          "text": [
            "Original string list is ['5', '8', '14', '7']\n",
            "After typecasting new list is [5, 8, 14, 7]\n"
          ]
        }
      ]
    },
    {
      "cell_type": "code",
      "source": [
        "#11 Write a program that checks if a number is positive, negative, or zero.\n",
        "num = float(input(\"Enter a number\"))\n",
        "if num > 0:\n",
        "  print(\"Number is positive.\")\n",
        "elif num < 0:\n",
        "  print(\"Number is negative.\")\n",
        "else:\n",
        "  print(\"Number is zero.\")"
      ],
      "metadata": {
        "colab": {
          "base_uri": "https://localhost:8080/"
        },
        "id": "DRtGPa-jgzrX",
        "outputId": "92c174dc-aa35-47e2-db24-14f9e8324e72"
      },
      "execution_count": 3,
      "outputs": [
        {
          "output_type": "stream",
          "name": "stdout",
          "text": [
            "Enter a number12\n",
            "Number is positive.\n"
          ]
        }
      ]
    },
    {
      "cell_type": "markdown",
      "source": [],
      "metadata": {
        "id": "-Pqwmb3OnOBs"
      }
    },
    {
      "cell_type": "code",
      "source": [
        "#12  Write a for loop to print numbers from 1 to 10.\n",
        "for i in range(1, 11):\n",
        "  print(i)"
      ],
      "metadata": {
        "colab": {
          "base_uri": "https://localhost:8080/"
        },
        "id": "73bzKInwjDWJ",
        "outputId": "10bde699-2c60-4169-cc71-aa9917c1fbd3"
      },
      "execution_count": 4,
      "outputs": [
        {
          "output_type": "stream",
          "name": "stdout",
          "text": [
            "1\n",
            "2\n",
            "3\n",
            "4\n",
            "5\n",
            "6\n",
            "7\n",
            "8\n",
            "9\n",
            "10\n"
          ]
        }
      ]
    },
    {
      "cell_type": "code",
      "source": [
        "#13  Write a Python program to find the sum of all even numbers between 1 and 50.\n",
        "sum_even = 0\n",
        "for number in range(1, 51):\n",
        "    if number % 2 == 0:\n",
        "        sum_even += number\n",
        "print(\"The sum of all even numbers between 1 and 50 is:\", sum_even)"
      ],
      "metadata": {
        "colab": {
          "base_uri": "https://localhost:8080/"
        },
        "id": "J8dFh_Oljjnd",
        "outputId": "750b956d-e962-435e-9266-5f08506a829a"
      },
      "execution_count": 5,
      "outputs": [
        {
          "output_type": "stream",
          "name": "stdout",
          "text": [
            "The sum of all even numbers between 1 and 50 is: 650\n"
          ]
        }
      ]
    },
    {
      "cell_type": "code",
      "source": [
        "#14 Write a program to reverse a string using a while loop.\n",
        "original_string = input(\"Enter a string: \")\n",
        "reversed_string = \"\"\n",
        "index = len(original_string) - 1\n",
        "while index >= 0:\n",
        "    reversed_string += original_string[index]\n",
        "    index -= 1\n",
        "print(\"Reversed string:\", reversed_string)"
      ],
      "metadata": {
        "id": "s2YKX5IRnc-r",
        "outputId": "f7069684-ce1f-41be-e6f2-79d0d9a7e3fc",
        "colab": {
          "base_uri": "https://localhost:8080/"
        }
      },
      "execution_count": 6,
      "outputs": [
        {
          "output_type": "stream",
          "name": "stdout",
          "text": [
            "Enter a string: Abhijay\n",
            "Reversed string: yajihbA\n"
          ]
        }
      ]
    },
    {
      "cell_type": "code",
      "source": [
        "#15  Write a Python program to calculate the factorial of a number provided by the user using a while loop.\n",
        "num = int(input(\"Enter a non-negative integer: \"))\n",
        "factorial = 1\n",
        "n = num\n",
        "while n > 1:\n",
        "    factorial *= n\n",
        "    n -= 1\n",
        "print(f\"Factorial of {num} is {factorial}\")\n"
      ],
      "metadata": {
        "id": "XXruw2JZquzx",
        "outputId": "4e3ebf4a-59ca-4876-def2-67355c7e18bd",
        "colab": {
          "base_uri": "https://localhost:8080/"
        }
      },
      "execution_count": 7,
      "outputs": [
        {
          "output_type": "stream",
          "name": "stdout",
          "text": [
            "Enter a non-negative integer: 4\n",
            "Factorial of 4 is 24\n"
          ]
        }
      ]
    }
  ]
}